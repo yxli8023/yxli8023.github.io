{
 "cells": [
  {
   "cell_type": "markdown",
   "metadata": {},
   "source": [
    "# Hr构建BHZ高对称路径能带图"
   ]
  },
  {
   "cell_type": "code",
   "execution_count": 54,
   "metadata": {},
   "outputs": [
    {
     "data": {
      "text/plain": [
       "[<matplotlib.lines.Line2D at 0x7f98b6f9bcd0>,\n",
       " <matplotlib.lines.Line2D at 0x7f98b6f9bdc0>,\n",
       " <matplotlib.lines.Line2D at 0x7f98b6f9be80>,\n",
       " <matplotlib.lines.Line2D at 0x7f98b6f9bf40>]"
      ]
     },
     "execution_count": 54,
     "metadata": {},
     "output_type": "execute_result"
    },
    {
     "data": {
      "image/png": "[encoded data removed]",
      "text/plain": [
       "<Figure size 432x288 with 1 Axes>"
      ]
     },
     "metadata": {
      "needs_background": "light"
     },
     "output_type": "display_data"
    }
   ],
   "source": [
    "import numpy as np\n",
    "import matplotlib.pyplot as plt\n",
    "def Hamhr():\n",
    "    # ------------------------------------\n",
    "    file = open('wannier90_hr.dat') # 打开TB模型的数据(通常默认文件名为wannier90_hr.dat)\n",
    "    comment = file.readline() \n",
    "    Band_number = int(file.readline())\n",
    "    Hopping_number = int(file.readline()) # 对于单独的一个字符串可以将其转化为整数\n",
    "\n",
    "    degenerate = [] # 用来存储每个hopping的简并度,每个hopping方向对应一个数字\n",
    "    con = 0\n",
    "    for line in file: # 接着上面读取到行的位置继续读\n",
    "        temp = line.strip().split() # 移除字符串头尾指定的字符（默认为空格）,并以空格将这些字符串分开\n",
    "        t1 = [int(x) for x in temp] #遍历每个字符串并转换为整数\n",
    "        degenerate.extend(t1) # 数据追加\n",
    "        if len(degenerate) == Hopping_number: # 当获取的hopping对应的简并度的个数和hopping方向的数目相等的时候,就停止读取文件\n",
    "            break\n",
    "    # 接下来读取核心的hr参数,也就是不同带之间hopping的大小以及方向,hr文件中剩下所有的数据都是这些信息,因此可以直接读取到文件末尾\n",
    "    Hr = []\n",
    "    for line in file:\n",
    "        temp = line.strip().split() # 先除去空格,再以空格分立成单独的字符串\n",
    "        # 将所有的字符串再转化成数值进行存储\n",
    "        Hr.append([int(temp[0]),int(temp[1]),int(temp[2]),int(temp[3]),int(temp[4]),float(temp[5]),float(temp[6])])\n",
    "    file.close() # 读取完成之后关闭文件\n",
    "    Hr = np.array(Hr) # 将一个list转化成矩阵, 这里存储的是核心的hooping方向以及大小\n",
    "\n",
    "    # 在通过TB数据进行Fourier变换得到动量空间中的模型时,需要利用的hopping R,这里将这些hopping方向R单独提取出来\n",
    "    Hopping_dir = np.zeros([Hopping_number,3],np.int64)\n",
    "    for i in range(Hopping_number):\n",
    "        Hopping_dir[i] = Hr[Band_number**2 * i ,0:3] # 获取所有的hopping方向\n",
    "\n",
    "    #现在得到了每个轨道hopping方向和对应的大小,那么将其全部存储,方便下一步构建Bloch哈密顿量\n",
    "\n",
    "    con1 = 0 # 用来计数,工具人\n",
    "    ham = np.zeros([Hopping_number, Band_number, Band_number], np.complex128)\n",
    "    for ih in range(Hopping_number):\n",
    "        for i1 in range(Band_number):\n",
    "            for i2 in range(Band_number):\n",
    "                ham[ih,i1,i2] = Hr[con1,5] + 1j*Hr[con1,6] # 对每一个hopping方向,存储每个轨道之间的hopping的大小\n",
    "                con1 = con1 + 1\n",
    "    return ham,Hopping_dir,Band_number,Hopping_number\n",
    "#-------------------------------------------------------------------\n",
    "def Hamk(hamhr,Hopping_dir,Hopping_number,Band_number,kx,ky):\n",
    "    # 同过TB数据构建动量空间哈密顿量\n",
    "    H = np.zeros([Band_number,Band_number],np.complex128) # 动量空间哈密顿量\n",
    "    for i0 in range(Hopping_number): # 对所有的R求和进行Fourier变换\n",
    "        H += np.exp(-1j*np.dot(Hopping_dir[i0,0:2],[kx,ky]))*hamhr[i0,:,:] # 每个轨道index对应的前面的位相因子是相同的\n",
    "    return H\n",
    "#-------------------------------------------------------------------\n",
    "def Band_HighSymmetry():\n",
    "    nx = 100\n",
    "    vals = []\n",
    "    klist = []\n",
    "    for i0 in range(0,nx):\n",
    "        kx = np.pi*i0/nx\n",
    "        klist.append(kx/np.pi)\n",
    "        ham,Hopping_dir,Band_number,Hopping_number = Hamhr()\n",
    "        H = Hamk(ham,Hopping_dir,Hopping_number,Band_number,kx,0)\n",
    "        val,vec = np.linalg.eigh(H)\n",
    "        vals.append(val)\n",
    "    for i0 in range(0,nx):\n",
    "        ky = np.pi*i0/nx\n",
    "        klist.append(1 + ky/np.pi)\n",
    "        ham,Hopping_dir,Band_number,Hopping_number = Hamhr()\n",
    "        H = Hamk(ham,Hopping_dir,Hopping_number,Band_number,np.pi,ky)\n",
    "        val,vec = np.linalg.eigh(H)\n",
    "        vals.append(val)\n",
    "    for i0 in range(0,nx):\n",
    "        ki = np.pi*i0/nx\n",
    "        klist.append(2 + ki/np.pi)\n",
    "        ham,Hopping_dir,Band_number,Hopping_number = Hamhr()\n",
    "        H = Hamk(ham,Hopping_dir,Hopping_number,Band_number,np.pi - ki,np.pi - ki)\n",
    "        val,vec = np.linalg.eigh(H)\n",
    "        vals.append(val)\n",
    "    return klist,vals\n",
    "#-------------------------------------------------------------------\n",
    "re1,re2 = Band_HighSymmetry()\n",
    "plt.plot(re1,re2)"
   ]
  },
  {
   "cell_type": "code",
   "execution_count": null,
   "metadata": {},
   "outputs": [],
   "source": [
    "\n"
   ]
  },
  {
   "cell_type": "code",
   "execution_count": null,
   "metadata": {},
   "outputs": [],
   "source": []
  },
  {
   "cell_type": "markdown",
   "metadata": {},
   "source": [
    "# BHZ高对称路径能带图"
   ]
  },
  {
   "cell_type": "code",
   "execution_count": 55,
   "metadata": {},
   "outputs": [
    {
     "data": {
      "text/plain": [
       "[<matplotlib.lines.Line2D at 0x7f98b70755e0>,\n",
       " <matplotlib.lines.Line2D at 0x7f98b70756d0>,\n",
       " <matplotlib.lines.Line2D at 0x7f98b7075790>,\n",
       " <matplotlib.lines.Line2D at 0x7f98b7075850>]"
      ]
     },
     "execution_count": 55,
     "metadata": {},
     "output_type": "execute_result"
    },
    {
     "data": {
      "image/png": "[encoded data removed]",
      "text/plain": [
       "<Figure size 432x288 with 1 Axes>"
      ]
     },
     "metadata": {
      "needs_background": "light"
     },
     "output_type": "display_data"
    }
   ],
   "source": [
    "def BHZ(kx,ky):\n",
    "    m0 = 1.5\n",
    "    tx = -1.0\n",
    "    ty = -1.0\n",
    "    ax = 1.0\n",
    "    ay = 1.0\n",
    "    s0 = np.array([[1,0],[0,1]])\n",
    "    sx = np.array([[0,1],[1,0]])\n",
    "    sy = np.array([[0,-1j],[1j,0]])\n",
    "    sz = np.array([[1,0],[0,-1]])\n",
    "    g1 = np.kron(s0,sz)\n",
    "    g2 = np.kron(sz,sx)\n",
    "    g3 = np.kron(s0,sy)\n",
    "    ham = np.zeros([g1.shape[0],g1.shape[0]],np.complex128)\n",
    "    ham = (m0 - tx * np.cos(kx) - ty * np.cos(ky))*g1 + ax * np.sin(kx)*g2 + ay * np.sin(ky)*g3\n",
    "    return ham\n",
    "#-------------------------------------------------------------------------------------------------\n",
    "def BHZ_High_path():\n",
    "    nx = 100\n",
    "    vals = []\n",
    "    klist = []\n",
    "    for i0 in range(0,nx):\n",
    "        kx = np.pi*i0/nx\n",
    "        klist.append(kx/np.pi)\n",
    "        H = BHZ(kx,0)\n",
    "        val,vec = np.linalg.eigh(H)\n",
    "        vals.append(val)\n",
    "    for i0 in range(0,nx):\n",
    "        ky = np.pi*i0/nx\n",
    "        klist.append(1 + ky/np.pi)\n",
    "        H = BHZ(np.pi,ky)\n",
    "        val,vec = np.linalg.eigh(H)\n",
    "        vals.append(val)\n",
    "    for i0 in range(0,nx):\n",
    "        ki = np.pi*i0/nx\n",
    "        klist.append(2 + ki/np.pi)\n",
    "        H = BHZ(np.pi - ki,np.pi - ki)\n",
    "        val,vec = np.linalg.eigh(H)\n",
    "        vals.append(val)\n",
    "    return klist,vals\n",
    "#-------------------------------------------------------------------------\n",
    "r1,r2 = BHZ_High_path()\n",
    "plt.plot(r1,r2)\n",
    "\n",
    "\n",
    "\n"
   ]
  },
  {
   "cell_type": "code",
   "execution_count": null,
   "metadata": {},
   "outputs": [],
   "source": []
  },
  {
   "cell_type": "code",
   "execution_count": null,
   "metadata": {},
   "outputs": [],
   "source": []
  },
  {
   "cell_type": "code",
   "execution_count": null,
   "metadata": {},
   "outputs": [],
   "source": []
  }
 ],
 "metadata": {
  "kernelspec": {
   "display_name": "Python 3",
   "language": "python",
   "name": "python3"
  },
  "language_info": {
   "codemirror_mode": {
    "name": "ipython",
    "version": 3
   },
   "file_extension": ".py",
   "mimetype": "text/x-python",
   "name": "python",
   "nbconvert_exporter": "python",
   "pygments_lexer": "ipython3",
   "version": "3.8.8"
  }
 },
 "nbformat": 4,
 "nbformat_minor": 4
}
